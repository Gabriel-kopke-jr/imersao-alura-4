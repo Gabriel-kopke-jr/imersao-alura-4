{
 "cells": [
  {
   "cell_type": "code",
   "execution_count": null,
   "id": "dd5ab22b",
   "metadata": {},
   "outputs": [],
   "source": [
    "def correcao_feature_valor(df):\n",
    "    df[['Moeda','Valor_1','Tipo_anuncio']] = df['Valor'].str.split(expand = True)\n",
    "    return df"
   ]
  },
  {
   "cell_type": "code",
   "execution_count": null,
   "id": "11182dcc",
   "metadata": {},
   "outputs": [],
   "source": [
    "def criacao_dados_vendas(df):\n",
    "    dados_vendas = df[df['Tipo_anuncio'].isnull()]\n",
    "    dados_vendas['Valor_1_float']=dados_vendas['Valor_1'].str.replace(\".\",\"\").astype(float)\n",
    "    return dados_vendas"
   ]
  },
  {
   "cell_type": "code",
   "execution_count": null,
   "id": "0bbc199d",
   "metadata": {},
   "outputs": [],
   "source": [
    "def criacao_metro_quadrado_bairro(df):\n",
    "    dados_bairro = df.groupby('Bairro').sum()\n",
    "    dados_bairro['Valor_m2_bairro'] = dados_bairro['Valor_1_float']/dados_bairro['Metragem']\n",
    "    dados_bairro.reset_index(inplace= True)\n",
    "    return dados_bairro.sort_values(by = \"Valor_m2_bairro\",ascending = False)"
   ]
  },
  {
   "cell_type": "code",
   "execution_count": null,
   "id": "b6a19ec1",
   "metadata": {},
   "outputs": [],
   "source": []
  }
 ],
 "metadata": {
  "kernelspec": {
   "display_name": "Python 3 (ipykernel)",
   "language": "python",
   "name": "python3"
  },
  "language_info": {
   "codemirror_mode": {
    "name": "ipython",
    "version": 3
   },
   "file_extension": ".py",
   "mimetype": "text/x-python",
   "name": "python",
   "nbconvert_exporter": "python",
   "pygments_lexer": "ipython3",
   "version": "3.9.7"
  }
 },
 "nbformat": 4,
 "nbformat_minor": 5
}
