{
 "cells": [
  {
   "cell_type": "code",
   "execution_count": null,
   "id": "615cfc85",
   "metadata": {},
   "outputs": [],
   "source": [
    "def modelo_knn(num_vizinhos,features,tamanho_teste):\n",
    "    from sklearn import neighbors\n",
    "    from sklearn.model_selection import train_test_split\n",
    "    from sklearn.preprocessing import StandardScaler\n",
    "    from sklearn.metrics import r2_score\n",
    "\n",
    "\n",
    "    x = dados_vendas_censo[features]\n",
    "    y = dados_vendas_censo[\"Valor_anuncio\"]\n",
    "\n",
    "\n",
    "    x_train, x_test, y_train, y_test = train_test_split(x, y, test_size=tamanho_teste, random_state=30)\n",
    "\n",
    "    knn = neighbors.KNeighborsRegressor(num_vizinhos)\n",
    "    knn.fit(x_train,y_train)\n",
    "    y_predict_test = knn.predict(x_test)\n",
    "    r2_score(y_test,y_predict_test)\n",
    "    return r2_score(y_test,y_predict_test)\n",
    "\n"
   ]
  }
 ],
 "metadata": {
  "kernelspec": {
   "display_name": "Python 3 (ipykernel)",
   "language": "python",
   "name": "python3"
  },
  "language_info": {
   "codemirror_mode": {
    "name": "ipython",
    "version": 3
   },
   "file_extension": ".py",
   "mimetype": "text/x-python",
   "name": "python",
   "nbconvert_exporter": "python",
   "pygments_lexer": "ipython3",
   "version": "3.9.7"
  }
 },
 "nbformat": 4,
 "nbformat_minor": 5
}
