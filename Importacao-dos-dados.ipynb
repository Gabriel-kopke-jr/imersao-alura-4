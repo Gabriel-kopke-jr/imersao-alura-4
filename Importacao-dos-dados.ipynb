{
 "cells": [
  {
   "cell_type": "code",
   "execution_count": 1,
   "id": "519f6a62",
   "metadata": {},
   "outputs": [],
   "source": [
    "import pandas as pd\n",
    "import numpy as np\n",
    "import seaborn as sns\n",
    "import matplotlib.pyplot as plt"
   ]
  },
  {
   "cell_type": "code",
   "execution_count": null,
   "id": "bf1fc86b",
   "metadata": {},
   "outputs": [],
   "source": [
    "url = \"https://gist.githubusercontent.com/tgcsantos/3bdb29eba6ce391e90df2b72205ba891/raw/22fa920e80c9fa209a9fccc8b52d74cc95d1599b/dados_imoveis.csv\"\n",
    "dados = pd.read_csv(url)"
   ]
  },
  {
   "cell_type": "code",
   "execution_count": null,
   "id": "349a41ba",
   "metadata": {},
   "outputs": [],
   "source": [
    "def descricao_dos_dados(feature):\n",
    "    return pd.DataFrame(dados[feature].describe().round(2))"
   ]
  },
  {
   "cell_type": "code",
   "execution_count": null,
   "id": "12ddd313",
   "metadata": {},
   "outputs": [],
   "source": [
    "def informacoes_base_de_dados(df):\n",
    "    return df.info()"
   ]
  },
  {
   "cell_type": "code",
   "execution_count": null,
   "id": "c096b464",
   "metadata": {},
   "outputs": [],
   "source": [
    "def descricao_dos_dados_vendas(feature):\n",
    "    return pd.DataFrame(dados_vendas[feature].describe().round(2))"
   ]
  },
  {
   "cell_type": "code",
   "execution_count": null,
   "id": "e4330528",
   "metadata": {},
   "outputs": [],
   "source": [
    "def importar_base_ibge():\n",
    "    ibge_sp = pd.read_csv(\"https://gist.githubusercontent.com/tgcsantos/85f8c7b0a2edbc3e27fcad619b37d886/raw/a4954781e6bca9cb804062a3eea0b3b84679daf4/Basico_SP1.csv\",sep = ';',encoding = \"UTF-8\", thousands = \".\", decimal = \",\")\n",
    "    ibge_sp.dropna(how=\"all\", axis = 1, inplace = True)\n",
    "    return ibge_sp"
   ]
  },
  {
   "cell_type": "code",
   "execution_count": null,
   "id": "7e89c990",
   "metadata": {},
   "outputs": [],
   "source": [
    "def importar_base_vendas_censo():\n",
    "    dados_vendas_censo = pd.read_csv(\"dados_vendas_censo.csv\")\n",
    "    dados_vendas_censo = dados_vendas_censo[['Rua', 'Bairro', 'Cidade', 'Metragem', 'Quartos', 'Banheiros', 'Vagas',\n",
    "       'Valor_anuncio', 'Valor_mm', 'Valor_m2', 'latitude', 'longitude', 'Situacao_setor', 'V001',\n",
    "       'V002', 'V003', 'V004', 'V005', 'V006', 'V007', 'V008', 'V009', 'V010',\n",
    "       'V011', 'V012']].dropna()\n",
    "    return dados_vendas_censo\n"
   ]
  }
 ],
 "metadata": {
  "kernelspec": {
   "display_name": "Python 3 (ipykernel)",
   "language": "python",
   "name": "python3"
  },
  "language_info": {
   "codemirror_mode": {
    "name": "ipython",
    "version": 3
   },
   "file_extension": ".py",
   "mimetype": "text/x-python",
   "name": "python",
   "nbconvert_exporter": "python",
   "pygments_lexer": "ipython3",
   "version": "3.9.7"
  }
 },
 "nbformat": 4,
 "nbformat_minor": 5
}
