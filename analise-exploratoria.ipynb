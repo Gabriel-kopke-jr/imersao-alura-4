{
 "cells": [
  {
   "cell_type": "code",
   "execution_count": null,
   "id": "452713ae",
   "metadata": {},
   "outputs": [],
   "source": [
    "def grafico_bairros_com_mais_imoveis(quantidade):\n",
    "    sns.set()\n",
    "    bairros = list(pd.DataFrame(dados[\"Bairro\"].value_counts()[:quantidade+1]).index)\n",
    "    valores = list(dados[\"Bairro\"].value_counts()[:quantidade+1].values)\n",
    "    plt.figure(figsize = (15,10))\n",
    "    plt.bar(bairros,valores, color =\"green\")\n",
    "    plt.title(\"Bairros com mais imóveis disponíveis para negócios (compra ou venda) \\n\",fontsize = 16)\n",
    "    plt.xticks(rotation = 90)\n",
    "    plt.ylabel(\"Quantidade de imóveis disponíveis \\n\", fontsize = 14)\n",
    "    return plt.show()"
   ]
  },
  {
   "cell_type": "code",
   "execution_count": null,
   "id": "96ca0b51",
   "metadata": {},
   "outputs": [],
   "source": [
    "def caracteristicas_imovel_bairro(dados):\n",
    "    return pd.DataFrame(dados.groupby(\"Bairro\")[[\"Metragem\",\"Vagas\",\"Banheiros\"]].mean().round(2)).sort_values(by=\"Metragem\", ascending = False)"
   ]
  },
  {
   "cell_type": "code",
   "execution_count": null,
   "id": "9664ff22",
   "metadata": {},
   "outputs": [],
   "source": [
    "def descricao_feature_imovel(feature):\n",
    "    return dados.groupby(\"Bairro\")[feature].describe().sort_values(by = \"count\",ascending = False)"
   ]
  },
  {
   "cell_type": "code",
   "execution_count": null,
   "id": "aff66bff",
   "metadata": {},
   "outputs": [],
   "source": [
    "def boxplot_feature(feature):\n",
    "    plt.figure(figsize = (8,6))\n",
    "    sns.boxplot(y = feature,data = dados,color = \"green\")\n",
    "    plt.title(\"Distribuição da variável \"+ feature + \"\\n\",fontsize = 16)\n",
    "    plt.ylabel(\"Número de \"+ feature +\"\\n\",fontsize = 14)\n",
    "    return plt.show()"
   ]
  },
  {
   "cell_type": "code",
   "execution_count": null,
   "id": "e64b45b1",
   "metadata": {},
   "outputs": [],
   "source": [
    "def distribuicao_valor_imovel(df):\n",
    "    plt.figure(figsize = (8,6))\n",
    "    sns.distplot(x=dados_vendas[\"Valor_1_float\"],color = \"green\")\n",
    "    plt.ylabel(\"Frequência \\n\", fontsize = 14)\n",
    "    plt.title(\"Distribuição de Frequência da variável Valor de imóveis \\n\", fontsize = 16)\n",
    "    plt.xlabel(\"Valores em escala de milhão\")\n",
    "    return plt.show()"
   ]
  },
  {
   "cell_type": "code",
   "execution_count": null,
   "id": "ce1b5852",
   "metadata": {},
   "outputs": [],
   "source": [
    "def grafico_do_metro_quadrado_sp(dados_bairro):\n",
    "    plt.figure(figsize = (10,8))\n",
    "    sns.barplot(x = \"Bairro\", y = \"Valor_m2_bairro\",data =dados_bairro[[\"Bairro\",\"Valor_m2_bairro\"]][:11],color = \"green\")\n",
    "    plt.title(\"Valor do metro quadrado por bairro em São Paulo \\n\", fontsize = 18)\n",
    "    plt.xlabel(\"\\n Bairro\",fontsize = 14)\n",
    "    plt.xticks(rotation = 90, fontsize= 12)\n",
    "    plt.ylabel(\"Valor metro quadrado \\n\",fontsize = 14)\n",
    "    return plt.show()"
   ]
  }
 ],
 "metadata": {
  "kernelspec": {
   "display_name": "Python 3 (ipykernel)",
   "language": "python",
   "name": "python3"
  },
  "language_info": {
   "codemirror_mode": {
    "name": "ipython",
    "version": 3
   },
   "file_extension": ".py",
   "mimetype": "text/x-python",
   "name": "python",
   "nbconvert_exporter": "python",
   "pygments_lexer": "ipython3",
   "version": "3.9.7"
  }
 },
 "nbformat": 4,
 "nbformat_minor": 5
}
